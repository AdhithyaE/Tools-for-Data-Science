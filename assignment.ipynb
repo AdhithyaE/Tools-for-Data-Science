{
 "cells": [
  {
   "cell_type": "markdown",
   "id": "3eb742fe-2bf3-47f7-af69-7be7dc04dc71",
   "metadata": {},
   "source": [
    "# My Jupyter Notebook on IBM Watson Studio"
   ]
  },
  {
   "cell_type": "markdown",
   "id": "27a35083-e0c3-4391-a68d-49e5eff36d27",
   "metadata": {},
   "source": [
    "**ADHITHYA E**"
   ]
  },
  {
   "cell_type": "markdown",
   "id": "29b8e0d3-349b-48cf-993f-7978275745e9",
   "metadata": {},
   "source": [
    "Data Scientist"
   ]
  },
  {
   "cell_type": "markdown",
   "id": "c302fc13-1045-4b44-8dbb-ad3860e4afbc",
   "metadata": {},
   "source": [
    "*I'm enthusiastic about data science, especially considering how quickly technology is changing the profession. \n",
    "I enjoy being a part of new technologies and trying out innovative solutions.*"
   ]
  },
  {
   "cell_type": "markdown",
   "id": "c93f4fd8-d51b-4a99-9b73-ff48538831a4",
   "metadata": {},
   "source": [
    "### My code will calculate 3 x 4 ."
   ]
  },
  {
   "cell_type": "code",
   "execution_count": 2,
   "id": "1f440be3-0807-44ec-9537-9aedaea75dfd",
   "metadata": {},
   "outputs": [
    {
     "data": {
      "text/plain": [
       "12"
      ]
     },
     "execution_count": 2,
     "metadata": {},
     "output_type": "execute_result"
    }
   ],
   "source": [
    "3 * 4"
   ]
  },
  {
   "cell_type": "markdown",
   "id": "c033f254-577b-4b40-99db-9b4bf1c197fc",
   "metadata": {},
   "source": [
    "* ML\n",
    "* AI\n",
    "* DATA SCIENCE"
   ]
  },
  {
   "cell_type": "markdown",
   "id": "f11e24c1-e18d-47e3-9abc-413828c1fee0",
   "metadata": {},
   "source": [
    "<a href=\"url\" target=\"https://irishtechnews.ie/how-python-is-used-in-data-science/\">image</a>"
   ]
  },
  {
   "cell_type": "markdown",
   "id": "d348c8c4-e830-4e38-a0bd-a1eb2fe7b960",
   "metadata": {},
   "source": [
    "| Stretch/Untouched | ProbDistribution | Accuracy |\n",
    "| --- | --- | --- |\n",
    "| Stretched | Gaussian | .843 |"
   ]
  },
  {
   "cell_type": "code",
   "execution_count": null,
   "id": "02289fe2-7f9c-4caf-bf00-fd9fd14cca0e",
   "metadata": {},
   "outputs": [],
   "source": []
  }
 ],
 "metadata": {
  "kernelspec": {
   "display_name": "Python",
   "language": "python",
   "name": "conda-env-python-py"
  },
  "language_info": {
   "codemirror_mode": {
    "name": "ipython",
    "version": 3
   },
   "file_extension": ".py",
   "mimetype": "text/x-python",
   "name": "python",
   "nbconvert_exporter": "python",
   "pygments_lexer": "ipython3",
   "version": "3.7.12"
  }
 },
 "nbformat": 4,
 "nbformat_minor": 5
}
